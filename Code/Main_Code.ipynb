{
 "cells": [
  {
   "cell_type": "markdown",
   "id": "7d2abd46",
   "metadata": {},
   "source": [
    "### Title: Forecasting COVID-19 cases by assessing control -intervention effects in Republic of Korea: a statistical modeling approach"
   ]
  },
  {
   "cell_type": "code",
   "execution_count": 1,
   "id": "e2153ca3",
   "metadata": {},
   "outputs": [],
   "source": [
    "rm(list=ls())"
   ]
  },
  {
   "cell_type": "code",
   "execution_count": 3,
   "id": "19ea7744",
   "metadata": {},
   "outputs": [],
   "source": [
    "# Load libraires\n",
    "libraries = c(\"deSolve\",\"dplyr\",\"Bhat\",\"reshape2\",\"gridExtra\",\"ggpubr\",\"openxlsx\",\"matrixStats\",\"tidyquant\",\"ggplot2\",\n",
    "              \"magrittr\",\"scales\",\"tidyr\",\"grid\")\n",
    "for(x in libraries) { library(x,character.only=TRUE,warn.conflicts=FALSE) }\n"
   ]
  },
  {
   "cell_type": "code",
   "execution_count": 4,
   "id": "36a9971e",
   "metadata": {},
   "outputs": [],
   "source": [
    "main_folder = \"../Result/\"\n",
    "\n",
    "#time interval for data-fitting\n",
    "startday.est = as.Date(\"2020-07-16\")\n",
    "finalday = as.Date(\"2021-03-04\")\n",
    "\n",
    "\n",
    "#serial interval\n",
    "serial_esti = c(4.8,2.3)\n",
    "xlabel_epi = \"Confirmed date (month/day)\"\n"
   ]
  },
  {
   "cell_type": "code",
   "execution_count": 5,
   "id": "9c06d5f3",
   "metadata": {},
   "outputs": [
    {
     "data": {
      "text/html": [
       "<table>\n",
       "<thead><tr><th scope=col>i.local</th><th scope=col>day</th><th scope=col>time</th><th scope=col>cum_case</th></tr></thead>\n",
       "<tbody>\n",
       "\t<tr><td>14        </td><td>2020-07-16</td><td>1         </td><td>11651     </td></tr>\n",
       "\t<tr><td>21        </td><td>2020-07-17</td><td>2         </td><td>11672     </td></tr>\n",
       "\t<tr><td>11        </td><td>2020-07-18</td><td>3         </td><td>11683     </td></tr>\n",
       "\t<tr><td>21        </td><td>2020-07-19</td><td>4         </td><td>11704     </td></tr>\n",
       "\t<tr><td> 4        </td><td>2020-07-20</td><td>5         </td><td>11708     </td></tr>\n",
       "\t<tr><td>20        </td><td>2020-07-21</td><td>6         </td><td>11728     </td></tr>\n",
       "</tbody>\n",
       "</table>\n"
      ],
      "text/latex": [
       "\\begin{tabular}{r|llll}\n",
       " i.local & day & time & cum\\_case\\\\\n",
       "\\hline\n",
       "\t 14         & 2020-07-16 & 1          & 11651     \\\\\n",
       "\t 21         & 2020-07-17 & 2          & 11672     \\\\\n",
       "\t 11         & 2020-07-18 & 3          & 11683     \\\\\n",
       "\t 21         & 2020-07-19 & 4          & 11704     \\\\\n",
       "\t  4         & 2020-07-20 & 5          & 11708     \\\\\n",
       "\t 20         & 2020-07-21 & 6          & 11728     \\\\\n",
       "\\end{tabular}\n"
      ],
      "text/markdown": [
       "\n",
       "| i.local | day | time | cum_case |\n",
       "|---|---|---|---|\n",
       "| 14         | 2020-07-16 | 1          | 11651      |\n",
       "| 21         | 2020-07-17 | 2          | 11672      |\n",
       "| 11         | 2020-07-18 | 3          | 11683      |\n",
       "| 21         | 2020-07-19 | 4          | 11704      |\n",
       "|  4         | 2020-07-20 | 5          | 11708      |\n",
       "| 20         | 2020-07-21 | 6          | 11728      |\n",
       "\n"
      ],
      "text/plain": [
       "  i.local day        time cum_case\n",
       "1 14      2020-07-16 1    11651   \n",
       "2 21      2020-07-17 2    11672   \n",
       "3 11      2020-07-18 3    11683   \n",
       "4 21      2020-07-19 4    11704   \n",
       "5  4      2020-07-20 5    11708   \n",
       "6 20      2020-07-21 6    11728   "
      ]
     },
     "metadata": {},
     "output_type": "display_data"
    }
   ],
   "source": [
    "# figure options\n",
    "ymax_vector = 1300\n",
    "ydiff_vector = 300\n",
    "xdiff = \"14 days\"\n",
    "#cols <- c(\"Local\" = \"gray60\",\"Imported\"=\"blue\")\n",
    "x_fig = seq(as.Date(startday.est),finalday,by=\"7 day\")\n",
    "\n",
    "#data load\n",
    "\n",
    "dfone= read.xlsx(\"../../Data/dfone_korea.xlsx\",sheet=\"Sheet 1\",detectDates=TRUE,colNames=T,startRow=1)%>%\n",
    "  filter(day<=as.Date(\"2021-03-04\"))\n",
    "dfone%>%head"
   ]
  },
  {
   "cell_type": "markdown",
   "id": "9d3b8da8",
   "metadata": {},
   "source": [
    "## Parameter and initial condition"
   ]
  },
  {
   "cell_type": "code",
   "execution_count": 6,
   "id": "2187d9e6",
   "metadata": {},
   "outputs": [
    {
     "data": {
      "text/html": [
       "<ol class=list-inline>\n",
       "\t<li>51779189</li>\n",
       "\t<li>0</li>\n",
       "\t<li>14</li>\n",
       "\t<li>0</li>\n",
       "\t<li>0</li>\n",
       "\t<li>14</li>\n",
       "\t<li>0</li>\n",
       "</ol>\n"
      ],
      "text/latex": [
       "\\begin{enumerate*}\n",
       "\\item 51779189\n",
       "\\item 0\n",
       "\\item 14\n",
       "\\item 0\n",
       "\\item 0\n",
       "\\item 14\n",
       "\\item 0\n",
       "\\end{enumerate*}\n"
      ],
      "text/markdown": [
       "1. 51779189\n",
       "2. 0\n",
       "3. 14\n",
       "4. 0\n",
       "5. 0\n",
       "6. 14\n",
       "7. 0\n",
       "\n",
       "\n"
      ],
      "text/plain": [
       "[1] 51779189        0       14        0        0       14        0"
      ]
     },
     "metadata": {},
     "output_type": "display_data"
    },
    {
     "data": {
      "text/html": [
       "<table>\n",
       "<thead><tr><th scope=col>alpha1</th><th scope=col>alpha2</th><th scope=col>gamma</th><th scope=col>N</th><th scope=col>w</th><th scope=col>alpha3</th></tr></thead>\n",
       "<tbody>\n",
       "\t<tr><td>0.2       </td><td>0.3333333 </td><td>0.07142857</td><td>51779203  </td><td>0         </td><td>0.2       </td></tr>\n",
       "</tbody>\n",
       "</table>\n"
      ],
      "text/latex": [
       "\\begin{tabular}{r|llllll}\n",
       " alpha1 & alpha2 & gamma & N & w & alpha3\\\\\n",
       "\\hline\n",
       "\t 0.2        & 0.3333333  & 0.07142857 & 51779203   & 0          & 0.2       \\\\\n",
       "\\end{tabular}\n"
      ],
      "text/markdown": [
       "\n",
       "| alpha1 | alpha2 | gamma | N | w | alpha3 |\n",
       "|---|---|---|---|---|---|\n",
       "| 0.2        | 0.3333333  | 0.07142857 | 51779203   | 0          | 0.2        |\n",
       "\n"
      ],
      "text/plain": [
       "  alpha1 alpha2    gamma      N        w alpha3\n",
       "1 0.2    0.3333333 0.07142857 51779203 0 0.2   "
      ]
     },
     "metadata": {},
     "output_type": "display_data"
    }
   ],
   "source": [
    "area_name = \"Korea\"\n",
    "pop0=51779203\n",
    "total.case = dfone$cum_case[1]-dfone$i.local[1]\n",
    "i0.est = dfone%>%filter(day==startday.est)%>%dplyr::select(i.local)%>%as.numeric()\n",
    "p.ode = data.frame(alpha1=1/5,alpha2=1/3,\n",
    "                   gamma=1/14,N=pop0,w=0,alpha3=1/5)\n",
    "(init0 = c(p.ode$N-i0.est,0,i0.est,0,0,i0.est,0))\n",
    "(pp = p.ode)\n",
    "dtts=1"
   ]
  },
  {
   "cell_type": "markdown",
   "id": "f7070d91",
   "metadata": {},
   "source": [
    "## Simulation for ODE model"
   ]
  },
  {
   "cell_type": "code",
   "execution_count": 7,
   "id": "62f92bca",
   "metadata": {},
   "outputs": [
    {
     "data": {
      "text/html": [
       "<ol class=list-inline>\n",
       "\t<li><time datetime=\"2020-08-07\">2020-08-07</time></li>\n",
       "\t<li><time datetime=\"2020-08-16\">2020-08-16</time></li>\n",
       "\t<li><time datetime=\"2020-08-23\">2020-08-23</time></li>\n",
       "\t<li><time datetime=\"2020-09-14\">2020-09-14</time></li>\n",
       "\t<li><time datetime=\"2020-09-28\">2020-09-28</time></li>\n",
       "\t<li><time datetime=\"2020-10-12\">2020-10-12</time></li>\n",
       "\t<li><time datetime=\"2020-11-05\">2020-11-05</time></li>\n",
       "\t<li><time datetime=\"2020-12-08\">2020-12-08</time></li>\n",
       "\t<li><time datetime=\"2020-12-23\">2020-12-23</time></li>\n",
       "\t<li><time datetime=\"2021-02-01\">2021-02-01</time></li>\n",
       "\t<li><time datetime=\"2021-02-15\">2021-02-15</time></li>\n",
       "\t<li><time datetime=\"2021-03-05\">2021-03-05</time></li>\n",
       "</ol>\n"
      ],
      "text/latex": [
       "\\begin{enumerate*}\n",
       "\\item 2020-08-07\n",
       "\\item 2020-08-16\n",
       "\\item 2020-08-23\n",
       "\\item 2020-09-14\n",
       "\\item 2020-09-28\n",
       "\\item 2020-10-12\n",
       "\\item 2020-11-05\n",
       "\\item 2020-12-08\n",
       "\\item 2020-12-23\n",
       "\\item 2021-02-01\n",
       "\\item 2021-02-15\n",
       "\\item 2021-03-05\n",
       "\\end{enumerate*}\n"
      ],
      "text/markdown": [
       "1. 2020-08-07\n",
       "2. 2020-08-16\n",
       "3. 2020-08-23\n",
       "4. 2020-09-14\n",
       "5. 2020-09-28\n",
       "6. 2020-10-12\n",
       "7. 2020-11-05\n",
       "8. 2020-12-08\n",
       "9. 2020-12-23\n",
       "10. 2021-02-01\n",
       "11. 2021-02-15\n",
       "12. 2021-03-05\n",
       "\n",
       "\n"
      ],
      "text/plain": [
       " [1] \"2020-08-07\" \"2020-08-16\" \"2020-08-23\" \"2020-09-14\" \"2020-09-28\"\n",
       " [6] \"2020-10-12\" \"2020-11-05\" \"2020-12-08\" \"2020-12-23\" \"2021-02-01\"\n",
       "[11] \"2021-02-15\" \"2021-03-05\""
      ]
     },
     "metadata": {},
     "output_type": "display_data"
    }
   ],
   "source": [
    "\n",
    "date1=startday.est\n",
    "daten =finalday\n",
    "tmax = as.numeric(finalday-startday.est)\n",
    "\n",
    "\n",
    "endday.est.1st = as.Date(\"2020-08-06\")\n",
    "control_date = c(endday.est.1st+1,as.Date(\"2020-08-16\"),as.Date(\"2020-08-23\"),\n",
    "                  as.Date(\"2020-09-14\"),as.Date(\"2020-09-28\"),as.Date(\"2020-10-12\"),\n",
    "                  as.Date(\"2020-11-05\"),\n",
    "                  as.Date(\"2020-12-08\"),as.Date(\"2020-12-23\"),as.Date(\"2021-02-01\"),as.Date(\"2021-02-15\"),finalday+1)\n",
    "\n",
    "\n",
    "ft_sc_df = function(t1,tn,control_date){\n",
    "  sc_df = data.frame(date=seq(t1,tn ,by=\"day\"))%>%\n",
    "    mutate(time=1:n())\n",
    "  sc_df%<>%mutate(control_t=1)\n",
    "  for(kk in 1:length(control_date)){\n",
    "    sc_df$control_t[which(sc_df$date>=control_date[kk])] =  sc_df$control_t[which(sc_df$date>=control_date[kk])]+1\n",
    "  }\n",
    "  return(sc_df)\n",
    "}\n",
    "\n",
    "sc_df = ft_sc_df(date1,daten,control_date)\n",
    "n_types = sc_df%>%group_by(control_t)%>%summarize(ngp=n())%>%.$ngp\n",
    "ngroup = length(n_types)\n",
    "sc_time_interval = data.frame(interval = 1:ngroup,\n",
    "                               start.d=c(date1,control_date[1:(ngroup-1)]),\n",
    "                               end.d=(control_date-1))\n",
    "\n",
    "\n",
    "v.w = rep(0,ngroup)\n",
    "v.a2=rep(p.ode$alpha2,ngroup)\n",
    "v.gam =rep(p.ode$gamma,ngroup)\n",
    "ft_time_pp =  function(control_date,endday.est,v.w,v.a2,v.gam){\n",
    "  \n",
    "  group = length(control_date)\n",
    "  \n",
    "  p.set = data.frame(matrix(rep(as.numeric(p.ode),each=group),nrow=group))\n",
    "  colnames(p.set) =colnames(p.ode)\n",
    "  p.sc = p.set\n",
    "  p.sc$w = v.w\n",
    "  p.sc$alpha2 = v.a2\n",
    "  p.sc$gamma = v.gam\n",
    "  p.sc\n",
    "  \n",
    "  return(p.sc)\n",
    "  \n",
    "}\n",
    "p.sc = ft_time_pp(control_date,endday.est,v.w,v.a2,v.gam)\n",
    "\n",
    "(control_date)\n",
    "source(\"function_ode.R\")"
   ]
  },
  {
   "cell_type": "code",
   "execution_count": 8,
   "id": "54f307c8",
   "metadata": {},
   "outputs": [
    {
     "data": {
      "text/html": [
       "<ol class=list-inline>\n",
       "\t<li>51703961.7627866</li>\n",
       "\t<li>1853.03874072062</li>\n",
       "\t<li>1124.73786910122</li>\n",
       "\t<li>5444.9056059529</li>\n",
       "\t<li>66818.5549975002</li>\n",
       "\t<li>73388.1984725543</li>\n",
       "\t<li>72263.4606034532</li>\n",
       "</ol>\n"
      ],
      "text/latex": [
       "\\begin{enumerate*}\n",
       "\\item 51703961.7627866\n",
       "\\item 1853.03874072062\n",
       "\\item 1124.73786910122\n",
       "\\item 5444.9056059529\n",
       "\\item 66818.5549975002\n",
       "\\item 73388.1984725543\n",
       "\\item 72263.4606034532\n",
       "\\end{enumerate*}\n"
      ],
      "text/markdown": [
       "1. 51703961.7627866\n",
       "2. 1853.03874072062\n",
       "3. 1124.73786910122\n",
       "4. 5444.9056059529\n",
       "5. 66818.5549975002\n",
       "6. 73388.1984725543\n",
       "7. 72263.4606034532\n",
       "\n",
       "\n"
      ],
      "text/plain": [
       "[1] 51703961.763     1853.039     1124.738     5444.906    66818.555\n",
       "[6]    73388.198    72263.461"
      ]
     },
     "metadata": {},
     "output_type": "display_data"
    },
    {
     "data": {
      "text/html": [
       "<time datetime=\"2021-03-04\">2021-03-04</time>"
      ],
      "text/latex": [
       "2021-03-04"
      ],
      "text/markdown": [
       "2021-03-04"
      ],
      "text/plain": [
       "[1] \"2021-03-04\""
      ]
     },
     "metadata": {},
     "output_type": "display_data"
    },
    {
     "data": {
      "image/png": "[encoded data removed]",
      "text/plain": [
       "plot without title"
      ]
     },
     "metadata": {},
     "output_type": "display_data"
    }
   ],
   "source": [
    "\n",
    "filenames_para = paste0(main_folder,\"para_table_dfp_\",area_name,\".xlsx\")\n",
    "filenames_odefit = paste0(main_folder,\"ode_fit_\",area_name,\".xlsx\")\n",
    "\n",
    "\n",
    "# up to now ---------------------------------------------------------------\n",
    "comp_df = read.xlsx(filenames_odefit,sheet=\"Sheet 1\",detectDates=TRUE,colNames=T,startRow=1)\n",
    "para_tb = read.xlsx(filenames_para,sheet=\"Sheet 1\",detectDates=TRUE,colNames=T,startRow=1)\n",
    "p.ode = para_tb%>%dplyr::select(alpha1,alpha2,gamma,N,w,alpha3)%>%slice(1,)\n",
    "\n",
    "\n",
    "\n",
    "results_list = list(comp_df,para_tb)\n",
    "\n",
    "\n",
    "comp_df = results_list[[1]]\n",
    "para_tb = results_list[[2]]\n",
    "\n",
    "fit_ode_result=comp_df\n",
    "(init_last = comp_df%>%dplyr::select(S,E,I,H,R,CI,HI)%>%tail(1)%>%as.numeric())\n",
    "(fig_tmax = finalday)\n",
    "legend_posi1=c(0.3,0.9);legend_posi2=c(0.5,0.9)\n",
    "\n",
    "diff = \"7 day\"\n",
    "x_startday = startday.est\n",
    "cymax=ymax_vector\n",
    "source(\"function_fig_ode_comp.R\")\n",
    "titles=area_name\n",
    "fig = ft_fig_ode_comp(comp_df,x_fig,x_startday,fig_tmax,legend_posi1,xlabel_epi,cymax,titles)\n",
    "  options(repr.plot.width=15,repr.plot.height=12)\n",
    "\n",
    "plot_fit <-grid.arrange(fig[[1]],fig[[2]],nrow=2)\n"
   ]
  },
  {
   "cell_type": "markdown",
   "id": "b0978e2b",
   "metadata": {},
   "source": [
    "## Forecasting COVID-19 cases"
   ]
  },
  {
   "cell_type": "code",
   "execution_count": 11,
   "id": "f47ce39f",
   "metadata": {},
   "outputs": [],
   "source": [
    "\n",
    "# Forecasting -------------------------------------------------------------\n",
    "sc_week = 4\n",
    "sc_diff = 1\n",
    "\n",
    "ngroup_esti = nrow(para_tb)\n",
    "date1=para_tb$start.d[1]\n",
    "daten =para_tb$end.d[1]\n",
    "tmax = as.numeric(daten-date1)\n",
    "\n",
    "\n",
    "diff = \"7 day\"\n",
    "x_endday  = finalday\n",
    "fig_tmax =para_tb$end.d[ngroup_esti]+7*sc_week\n",
    "\n",
    "control_date_sc = c(para_tb$start.d[2:ngroup_esti],\n",
    "                     para_tb$end.d[ngroup_esti]+1+seq(0,7*sc_week,by=sc_diff))\n",
    "\n",
    "x_fig_sc = seq(x_fig[1],control_date_sc[length(control_date_sc)],by=\"7 day\")\n",
    "\n",
    "\n",
    "sc_df_future = ft_sc_df(date1,fig_tmax,control_date_sc)\n",
    "n_types_sc = sc_df_future%>%group_by(control_t)%>%summarize(ngp=n())%>%.$ngp\n",
    "ngroup_sc = length(n_types_sc)\n",
    "sc_time_interval_sc = data.frame(interval = 1:ngroup_sc,start.d=c(date1,control_date_sc[1:(ngroup_sc-1)]),end.d=(control_date_sc-1))\n",
    "\n",
    "\n",
    "\n",
    "v.w_sc = rep(0,ngroup_sc)\n",
    "v.a2_sc=c(para_tb$alpha2,rep(1/3,ngroup_sc-ngroup_esti))\n",
    "v.gam_sc = c(para_tb$gamma,rep(1/14,ngroup_sc-ngroup_esti))\n",
    "p.sc_sc = ft_time_pp(control_date_sc,fig_tmax,v.w_sc,v.a2_sc,v.gam_sc)\n",
    "\n",
    "\n",
    "betas = para_tb$esti_beta\n",
    "\n",
    "filenames_forecast = paste0(\"../Result/Forecast_excel_load_Korea.xlsx\")\n",
    "combine_comp_df_sc = read.xlsx(filenames_forecast,sheet=\"Sheet 1\",detectDates=TRUE,colNames=T,startRow=1)\n",
    "comp_df_sc<-combine_comp_df_sc%>%group_by(SD)%>%group_split()\n",
    "\n",
    "\n",
    "\n",
    "diff = \"7 day\"\n",
    "x_endday  = x_fig_sc[length(x_fig_sc)]\n",
    "x_startday.fig =as.Date(\"2020-12-31\")\n",
    "new_date.fig = seq(x_startday.fig,x_endday,by=\"7 days\")\n",
    "fontsize=12\n",
    "df_future= read.xlsx(\"../../Data/dfone_korea.xlsx\",sheet=\"Sheet 1\",detectDates=TRUE,colNames=T,startRow=1)\n",
    "\n",
    "final_combine_temp =   combine_comp_df_sc%>%dplyr::select(-c(i.local, cum_case,time))%>%left_join(df_future%>%rename(date=day),by=c(\"date\"))%>%\n",
    "  mutate(i.local=replace_na(i.local,0),\n",
    "         cum_case=replace_na(cum_case,0))%>%filter(date>=x_startday.fig)\n",
    "\n",
    "new_cumcase = final_combine_temp$cum_case[1]-final_combine_temp$i.local[1]\n",
    "\n",
    "final_combine = final_combine_temp%>%group_by(SD)%>%\n",
    "  mutate(cum_q1=cumsum(q1)+new_cumcase,\n",
    "         cum_q2=cumsum(q2)+new_cumcase,\n",
    "         cum_q3=cumsum(q3)+new_cumcase,\n",
    "         cum_low=cumsum(low)+new_cumcase,\n",
    "         cum_upp=cumsum(upp)+new_cumcase)%>%ungroup()\n",
    "\n",
    "final_combine_sd = final_combine%>%group_by(SD)%>%group_split()\n",
    "comp_dfa=final_combine_sd"
   ]
  },
  {
   "cell_type": "code",
   "execution_count": 12,
   "id": "3c88beb3",
   "metadata": {
    "scrolled": false
   },
   "outputs": [
    {
     "data": {
      "image/png": "[encoded data removed]",
      "text/plain": [
       "plot without title"
      ]
     },
     "metadata": {},
     "output_type": "display_data"
    }
   ],
   "source": [
    "title_names = area_name\n",
    "source(\"function_forecasting.R\")\n",
    "  options(repr.plot.width=15,repr.plot.height=9)\n",
    "\n",
    "fig = ft_forecasting(dfone,df_future,finalday,comp_dfa)\n",
    "  print(fig)"
   ]
  },
  {
   "cell_type": "code",
   "execution_count": null,
   "id": "eca22190",
   "metadata": {},
   "outputs": [],
   "source": []
  }
 ],
 "metadata": {
  "kernelspec": {
   "display_name": "R",
   "language": "R",
   "name": "ir"
  },
  "language_info": {
   "codemirror_mode": "r",
   "file_extension": ".r",
   "mimetype": "text/x-r-source",
   "name": "R",
   "pygments_lexer": "r",
   "version": "3.6.1"
  }
 },
 "nbformat": 4,
 "nbformat_minor": 5
}
